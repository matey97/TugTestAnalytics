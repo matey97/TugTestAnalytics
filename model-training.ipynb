{
 "cells": [
  {
   "cell_type": "markdown",
   "id": "closing-brake",
   "metadata": {},
   "source": [
    "# TUG Test Model training"
   ]
  },
  {
   "cell_type": "markdown",
   "id": "separate-caribbean",
   "metadata": {},
   "source": [
    "## Imports"
   ]
  },
  {
   "cell_type": "code",
   "execution_count": null,
   "id": "certified-worker",
   "metadata": {},
   "outputs": [],
   "source": [
    "import os\n",
    "import tensorflow as tf\n",
    "from tensorflow import keras\n",
    "from tensorflow.keras import layers, optimizers\n",
    "\n",
    "from tflite_support.metadata_writers import writer_utils\n",
    "from tflite_support import metadata as _metadata\n",
    "\n",
    "from sklearn.model_selection import train_test_split\n",
    "from sklearn.metrics import confusion_matrix, accuracy_score, classification_report\n",
    "from sklearn.utils import shuffle\n",
    "\n",
    "import pandas as pd\n",
    "import numpy as np"
   ]
  },
  {
   "cell_type": "markdown",
   "id": "streaming-emperor",
   "metadata": {},
   "source": [
    "## Global variables"
   ]
  },
  {
   "cell_type": "code",
   "execution_count": null,
   "id": "electric-hayes",
   "metadata": {},
   "outputs": [],
   "source": [
    "FEATURES_PATH = \"FEATURES\"\n",
    "MODEL_PATH = \"MODEL\"\n",
    "NUM_CLASSES = 5"
   ]
  },
  {
   "cell_type": "markdown",
   "id": "three-vatican",
   "metadata": {},
   "source": [
    "## Data loading"
   ]
  },
  {
   "cell_type": "code",
   "execution_count": null,
   "id": "blank-stretch",
   "metadata": {},
   "outputs": [],
   "source": [
    "data_wear = pd.read_csv(os.path.join(FEATURES_PATH,'features_full_norm_01.csv'))\n",
    "\n",
    "X_norm = data_wear.drop(columns=[\"CLASS\"])\n",
    "Y_norm = pd.get_dummies(data_wear[\"CLASS\"])\n",
    "\n",
    "data_wear[\"CLASS\"].value_counts()"
   ]
  },
  {
   "cell_type": "markdown",
   "id": "casual-bachelor",
   "metadata": {},
   "source": [
    "## Write class labels to file"
   ]
  },
  {
   "cell_type": "code",
   "execution_count": null,
   "id": "norman-canberra",
   "metadata": {},
   "outputs": [],
   "source": [
    "with open(os.path.join(MODEL_PATH,'labels.txt'), 'w') as labels_file:\n",
    "    labels = Y_norm.columns.values\n",
    "    for i, label in enumerate(labels):\n",
    "        labels_file.write(label)\n",
    "        if i != len(labels) - 1:\n",
    "            labels_file.write(\"\\n\");"
   ]
  },
  {
   "cell_type": "markdown",
   "id": "colonial-sessions",
   "metadata": {},
   "source": [
    "## Data split"
   ]
  },
  {
   "cell_type": "code",
   "execution_count": null,
   "id": "concrete-schedule",
   "metadata": {},
   "outputs": [],
   "source": [
    "X_train_norm, X_test_norm, Y_train_norm, Y_test_norm = train_test_split(X_norm, Y_norm, test_size = 0.3, random_state=53, stratify=Y_norm)\n",
    "X_train_norm, X_val_norm, Y_train_norm, Y_val_norm = train_test_split(X_train_norm, Y_train_norm, test_size = 0.2, random_state=53, stratify=Y_train_norm)"
   ]
  },
  {
   "cell_type": "markdown",
   "id": "initial-manhattan",
   "metadata": {},
   "source": [
    "## Model"
   ]
  },
  {
   "cell_type": "markdown",
   "id": "south-sacramento",
   "metadata": {},
   "source": [
    "### Architecture definition"
   ]
  },
  {
   "cell_type": "code",
   "execution_count": null,
   "id": "pursuant-active",
   "metadata": {},
   "outputs": [],
   "source": [
    "def create_model():\n",
    "    model = keras.Sequential(\n",
    "        [\n",
    "            layers.Dense(256, input_shape=(47,), use_bias=False),\n",
    "            layers.BatchNormalization(),\n",
    "            layers.Activation('relu'),\n",
    "            layers.Dense(256, use_bias=False),\n",
    "            layers.BatchNormalization(),\n",
    "            layers.Activation('relu'),\n",
    "            layers.Dense(NUM_CLASSES, activation='softmax')\n",
    "        ]\n",
    "    )\n",
    "    model.summary()\n",
    "\n",
    "    opt = optimizers.Adam(lr=0.001)\n",
    "    model.compile(loss='categorical_crossentropy', optimizer=opt, metrics=['accuracy'])\n",
    "    return model"
   ]
  },
  {
   "cell_type": "markdown",
   "id": "caroline-american",
   "metadata": {},
   "source": [
    "### Training"
   ]
  },
  {
   "cell_type": "code",
   "execution_count": null,
   "id": "ranking-preserve",
   "metadata": {},
   "outputs": [],
   "source": [
    "model_norm = create_model()\n",
    "model_norm.fit(X_train_norm, Y_train_norm, batch_size=50, epochs=50, validation_data=(X_val_norm,Y_val_norm))"
   ]
  },
  {
   "cell_type": "markdown",
   "id": "demanding-newspaper",
   "metadata": {},
   "source": [
    "### Evaluation"
   ]
  },
  {
   "cell_type": "code",
   "execution_count": null,
   "id": "iraqi-timing",
   "metadata": {},
   "outputs": [],
   "source": [
    "Y_pred = model_norm.predict(X_test_norm)\n",
    "Y_pred_lab = np.argmax(Y_pred, axis=1)\n",
    "Y_test_lab = np.argmax(Y_test_norm.to_numpy(), axis=1)\n",
    "print(\"Training results:\")\n",
    "print(\"\\tAccuracy: {0}\".format(accuracy_score(Y_test_lab, Y_pred_lab)))\n",
    "print(\"\\tConfusion matrix:\")\n",
    "print(confusion_matrix(Y_test_lab, Y_pred_lab))\n",
    "print(\"\\tClassification report:\")\n",
    "print(classification_report(Y_test_lab, Y_pred_lab, target_names=Y_norm.columns))"
   ]
  },
  {
   "cell_type": "markdown",
   "id": "expensive-browse",
   "metadata": {},
   "source": [
    "## TensorFlow Lite Conversion"
   ]
  },
  {
   "cell_type": "markdown",
   "id": "appreciated-venezuela",
   "metadata": {},
   "source": [
    "### Save model as TensorFlow Lite"
   ]
  },
  {
   "cell_type": "code",
   "execution_count": null,
   "id": "italian-extraction",
   "metadata": {},
   "outputs": [],
   "source": [
    "converter = tf.lite.TFLiteConverter.from_keras_model(model_norm)\n",
    "tflite_model = converter.convert()\n",
    "\n",
    "with open(os.path.join(MODEL_PATH, 'model_full_norm.tflite'), 'wb') as file:\n",
    "    file.write(tflite_model)"
   ]
  },
  {
   "cell_type": "markdown",
   "id": "proved-welsh",
   "metadata": {},
   "source": [
    "### Load saved model and add class labels as metadata"
   ]
  },
  {
   "cell_type": "code",
   "execution_count": null,
   "id": "fatal-program",
   "metadata": {},
   "outputs": [],
   "source": [
    "model_buffer = writer_utils.load_file(os.path.join(MODEL_PATH, 'model_full_norm.tflite'))\n",
    "\n",
    "populator = _metadata.MetadataPopulator.with_model_buffer(model_buffer)\n",
    "populator.load_associated_files([os.path.join(MODEL_PATH, 'labels.txt')])\n",
    "populator.populate()\n",
    "updated_model_buff = populator.get_model_buffer()\n",
    "with open(os.path.join(MODEL_PATH, 'model_full_norm.tflite'), \"wb\") as f:\n",
    "    f.write(updated_model_buff)"
   ]
  }
 ],
 "metadata": {
  "kernelspec": {
   "display_name": "Python 3",
   "language": "python",
   "name": "python3"
  },
  "language_info": {
   "codemirror_mode": {
    "name": "ipython",
    "version": 3
   },
   "file_extension": ".py",
   "mimetype": "text/x-python",
   "name": "python",
   "nbconvert_exporter": "python",
   "pygments_lexer": "ipython3",
   "version": "3.8.8"
  }
 },
 "nbformat": 4,
 "nbformat_minor": 5
}
